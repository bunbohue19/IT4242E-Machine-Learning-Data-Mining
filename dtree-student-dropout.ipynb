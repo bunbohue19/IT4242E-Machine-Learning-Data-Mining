{
 "cells": [
  {
   "cell_type": "code",
   "execution_count": 52,
   "metadata": {},
   "outputs": [],
   "source": [
    "import numpy as np\n",
    "import csv\n",
    "import matplotlib.pyplot as plt"
   ]
  },
  {
   "attachments": {},
   "cell_type": "markdown",
   "metadata": {},
   "source": [
    "# Load data"
   ]
  },
  {
   "cell_type": "code",
   "execution_count": 53,
   "metadata": {},
   "outputs": [],
   "source": [
    "fields = {\n",
    "    'Marital status',\n",
    "    'Application mode',\n",
    "    'Application order',\n",
    "    'Course',\n",
    "    'Daytime/evening attendance\\t',\n",
    "    'Previous qualification',\n",
    "    'Previous qualification (grade)',\n",
    "    'Nacionality',\n",
    "    \"Mother's qualification\",\n",
    "    \"Father's qualification\",\n",
    "    \"Mother's occupation\",\n",
    "    \"Father's occupation\",\n",
    "    'Admission grade',\n",
    "    'Displaced',\n",
    "    'Educational special needs',\n",
    "    'Debtor',\n",
    "    'Tuition fees up to date',\n",
    "    'Gender',\n",
    "    'Scholarship holder',\n",
    "    'Age at enrollment',\n",
    "    'International',\n",
    "    'Curricular units 1st sem (credited)',\n",
    "    'Curricular units 1st sem (enrolled)',\n",
    "    'Curricular units 1st sem (evaluations)',\n",
    "    'Curricular units 1st sem (approved)',\n",
    "    'Curricular units 1st sem (grade)',\n",
    "    'Curricular units 1st sem (without evaluations)',\n",
    "    'Curricular units 2nd sem (credited)',\n",
    "    'Curricular units 2nd sem (enrolled)',\n",
    "    'Curricular units 2nd sem (evaluations)',\n",
    "    'Curricular units 2nd sem (approved)',\n",
    "    'Curricular units 2nd sem (grade)',\n",
    "    'Curricular units 2nd sem (without evaluations)',\n",
    "    'Unemployment rate',\n",
    "    'Inflation rate',\n",
    "    'GDP',\n",
    "}\n",
    "\n",
    "def load_student_data(path_data='data/student-dropout/data.csv'):\n",
    "    '''\n",
    "    Load dataset and remove 'Enrolled' target\n",
    "    '''\n",
    "    data = []\n",
    "    with open(path_data, encoding='utf-8-sig') as f_data:\n",
    "        for datum in csv.DictReader(f_data, delimiter=';'):\n",
    "            remove = False\n",
    "            for field in list(datum.keys()):\n",
    "                if field in fields and datum[field]:\n",
    "                    datum[field] = float(datum[field])\n",
    "                if field == 'Target':\n",
    "                    if datum[field] == 'Enrolled':\n",
    "                        remove = True\n",
    "                    elif datum[field] == 'Dropout':\n",
    "                        datum[field] = -1.\n",
    "                    else: # 'Graduated'\n",
    "                        datum[field] = 1.\n",
    "            if not remove: \n",
    "                data.append(datum)\n",
    "    return data"
   ]
  },
  {
   "cell_type": "code",
   "execution_count": 54,
   "metadata": {},
   "outputs": [
    {
     "name": "stdout",
     "output_type": "stream",
     "text": [
      "Number of examples: 3630\n"
     ]
    }
   ],
   "source": [
    "student_data = load_student_data()\n",
    "print('Number of examples:', len(student_data))\n",
    "# print('An example:')\n",
    "# student_data[100]"
   ]
  },
  {
   "attachments": {},
   "cell_type": "markdown",
   "metadata": {},
   "source": [
    "## Feature transforms"
   ]
  },
  {
   "cell_type": "code",
   "execution_count": 55,
   "metadata": {},
   "outputs": [],
   "source": [
    "def std_vals(data, f):\n",
    "    vals = [entry[f] for entry in data]\n",
    "    avg = sum(vals) / len(vals)\n",
    "    dev = [(entry[f] - avg)**2 for entry in data]\n",
    "    sd = (sum(dev) / len(vals))**0.5\n",
    "    return avg, sd"
   ]
  },
  {
   "cell_type": "code",
   "execution_count": 56,
   "metadata": {},
   "outputs": [],
   "source": [
    "def standard(v, std):\n",
    "    return [(v - std[0]) / std[1]]"
   ]
  },
  {
   "cell_type": "code",
   "execution_count": 57,
   "metadata": {},
   "outputs": [],
   "source": [
    "def raw(x):\n",
    "    return [x]"
   ]
  },
  {
   "cell_type": "code",
   "execution_count": 58,
   "metadata": {},
   "outputs": [],
   "source": [
    "def one_hot(v, entries):\n",
    "    '''\n",
    "    v -- value\n",
    "    entries -- possible values\n",
    "    '''\n",
    "    vec = len(entries) * [0]\n",
    "    vec[entries.index(v)] = 1\n",
    "    return vec"
   ]
  },
  {
   "attachments": {},
   "cell_type": "markdown",
   "metadata": {},
   "source": [
    "## Preprocess data"
   ]
  },
  {
   "cell_type": "code",
   "execution_count": 59,
   "metadata": {},
   "outputs": [],
   "source": [
    "features = [\n",
    "    ('Marital status', one_hot),\n",
    "    ('Application mode', one_hot),\n",
    "    ('Application order', raw),\n",
    "    ('Course', one_hot),\n",
    "    ('Daytime/evening attendance\\t', raw),\n",
    "    ('Previous qualification', one_hot),\n",
    "    ('Previous qualification (grade)', standard),\n",
    "    ('Nacionality', one_hot),\n",
    "    (\"Mother's qualification\", one_hot),\n",
    "    (\"Father's qualification\", one_hot),\n",
    "    (\"Mother's occupation\", one_hot),\n",
    "    (\"Father's occupation\", one_hot),\n",
    "    ('Admission grade', standard),\n",
    "    ('Displaced', raw),\n",
    "    ('Educational special needs', raw),\n",
    "    ('Debtor', raw),\n",
    "    ('Tuition fees up to date', raw),\n",
    "    ('Gender', raw),\n",
    "    ('Scholarship holder', raw),\n",
    "    ('Age at enrollment', raw),\n",
    "    ('International', raw),\n",
    "    ('Curricular units 1st sem (credited)', raw),\n",
    "    ('Curricular units 1st sem (enrolled)', raw),\n",
    "    ('Curricular units 1st sem (evaluations)', raw),\n",
    "    ('Curricular units 1st sem (approved)', raw),\n",
    "    ('Curricular units 1st sem (grade)', raw),\n",
    "    ('Curricular units 1st sem (without evaluations)', raw),\n",
    "    ('Curricular units 2nd sem (credited)', raw),\n",
    "    ('Curricular units 2nd sem (enrolled)', raw),\n",
    "    ('Curricular units 2nd sem (evaluations)', raw),\n",
    "    ('Curricular units 2nd sem (approved)', raw),\n",
    "    ('Curricular units 2nd sem (grade)', raw),\n",
    "    ('Curricular units 2nd sem (without evaluations)', raw),\n",
    "    ('Unemployment rate', standard),\n",
    "    ('Inflation rate', standard),\n",
    "    ('GDP', standard),\n",
    "]"
   ]
  },
  {
   "cell_type": "code",
   "execution_count": 60,
   "metadata": {},
   "outputs": [],
   "source": [
    "def preprocess(data, features, verbose=True):\n",
    "    features = [('Target', raw)] + features\n",
    "    std = {f : std_vals(data, f) \\\n",
    "           for (f,phi) in features if phi == standard}\n",
    "    entries = {f : list(set([entry[f] for entry in data])) \\\n",
    "               for (f, phi) in features if phi == one_hot} \n",
    "    if verbose: print('Mean and Std:', std)\n",
    "    if verbose: print('Entries in one_hot field:', entries)\n",
    "    \n",
    "    findex = 0\n",
    "    # Print the meaning of features\n",
    "    for (f, phi) in features[1:]: # skip 'Target'\n",
    "        if phi == standard:\n",
    "            if verbose: print(findex, f, 'std')\n",
    "            findex += 1\n",
    "        elif phi == one_hot:\n",
    "            for entry in entries[f]:\n",
    "                if verbose: print(findex, f, entry, 'one_hot')\n",
    "                findex += 1\n",
    "        else:\n",
    "            if verbose: print(findex, f, 'raw')\n",
    "            findex += 1\n",
    "\n",
    "    vals = []\n",
    "    for entry in data:\n",
    "        phis = []\n",
    "        for (f, phi) in features:\n",
    "            if phi == standard:\n",
    "                phis.extend(phi(entry[f], std[f]))\n",
    "            elif phi == one_hot:\n",
    "                phis.extend(phi(entry[f], entries[f]))\n",
    "            else:\n",
    "                phis.extend(phi(entry[f]))\n",
    "        vals.append(np.array([phis])) # phis of shape (1,D)\n",
    "    \n",
    "    data = np.vstack(vals)\n",
    "    np.random.seed(0)\n",
    "    np.random.shuffle(data)\n",
    "    return data[:, 1:], data[:, 0:1]\n"
   ]
  },
  {
   "cell_type": "code",
   "execution_count": 61,
   "metadata": {},
   "outputs": [
    {
     "name": "stdout",
     "output_type": "stream",
     "text": [
      "Mean and Std: {'Previous qualification (grade)': (132.92060606060494, 13.236549060750294), 'Admission grade': (127.29393939393924, 14.609282556743532), 'Unemployment rate': (11.63035812672188, 2.667284425747152), 'Inflation rate': (1.2315977961432394, 1.3847204104409045), 'GDP': (-0.009256198347107725, 2.259674553698473)}\n",
      "Entries in one_hot field: {'Marital status': [1.0, 2.0, 3.0, 4.0, 5.0, 6.0], 'Application mode': [1.0, 2.0, 5.0, 39.0, 7.0, 42.0, 43.0, 44.0, 10.0, 15.0, 16.0, 17.0, 18.0, 51.0, 53.0, 57.0, 26.0, 27.0], 'Course': [33.0, 9254.0, 9991.0, 9670.0, 9130.0, 171.0, 9003.0, 9773.0, 8014.0, 9070.0, 9085.0, 9556.0, 9238.0, 9147.0, 9500.0, 9853.0, 9119.0], 'Previous qualification': [1.0, 2.0, 3.0, 4.0, 5.0, 6.0, 39.0, 40.0, 9.0, 10.0, 42.0, 12.0, 43.0, 38.0, 15.0, 14.0, 19.0], 'Nacionality': [1.0, 2.0, 6.0, 11.0, 13.0, 14.0, 17.0, 21.0, 22.0, 24.0, 25.0, 26.0, 41.0, 62.0, 100.0, 101.0, 103.0, 105.0, 109.0], \"Mother's qualification\": [1.0, 2.0, 3.0, 4.0, 5.0, 6.0, 9.0, 10.0, 11.0, 12.0, 14.0, 18.0, 19.0, 22.0, 26.0, 27.0, 29.0, 30.0, 34.0, 35.0, 36.0, 37.0, 38.0, 39.0, 40.0, 41.0, 42.0, 43.0, 44.0], \"Father's qualification\": [1.0, 2.0, 3.0, 4.0, 5.0, 6.0, 9.0, 10.0, 11.0, 12.0, 13.0, 14.0, 18.0, 19.0, 20.0, 22.0, 25.0, 26.0, 27.0, 29.0, 30.0, 31.0, 33.0, 34.0, 35.0, 36.0, 37.0, 38.0, 39.0, 40.0, 41.0, 42.0, 43.0, 44.0], \"Mother's occupation\": [0.0, 1.0, 2.0, 3.0, 4.0, 5.0, 6.0, 7.0, 8.0, 9.0, 132.0, 10.0, 134.0, 141.0, 143.0, 144.0, 151.0, 152.0, 153.0, 171.0, 175.0, 191.0, 192.0, 193.0, 194.0, 90.0, 99.0, 123.0, 125.0], \"Father's occupation\": [0.0, 1.0, 2.0, 3.0, 4.0, 5.0, 6.0, 7.0, 8.0, 9.0, 10.0, 131.0, 135.0, 141.0, 143.0, 144.0, 151.0, 152.0, 153.0, 154.0, 163.0, 171.0, 172.0, 174.0, 175.0, 181.0, 182.0, 183.0, 192.0, 193.0, 194.0, 195.0, 90.0, 99.0, 101.0, 102.0, 103.0, 112.0, 114.0, 122.0, 123.0, 124.0]}\n",
      "0 Marital status 1.0 one_hot\n",
      "1 Marital status 2.0 one_hot\n",
      "2 Marital status 3.0 one_hot\n",
      "3 Marital status 4.0 one_hot\n",
      "4 Marital status 5.0 one_hot\n",
      "5 Marital status 6.0 one_hot\n",
      "6 Application mode 1.0 one_hot\n",
      "7 Application mode 2.0 one_hot\n",
      "8 Application mode 5.0 one_hot\n",
      "9 Application mode 39.0 one_hot\n",
      "10 Application mode 7.0 one_hot\n",
      "11 Application mode 42.0 one_hot\n",
      "12 Application mode 43.0 one_hot\n",
      "13 Application mode 44.0 one_hot\n",
      "14 Application mode 10.0 one_hot\n",
      "15 Application mode 15.0 one_hot\n",
      "16 Application mode 16.0 one_hot\n",
      "17 Application mode 17.0 one_hot\n",
      "18 Application mode 18.0 one_hot\n",
      "19 Application mode 51.0 one_hot\n",
      "20 Application mode 53.0 one_hot\n",
      "21 Application mode 57.0 one_hot\n",
      "22 Application mode 26.0 one_hot\n",
      "23 Application mode 27.0 one_hot\n",
      "24 Application order raw\n",
      "25 Course 33.0 one_hot\n",
      "26 Course 9254.0 one_hot\n",
      "27 Course 9991.0 one_hot\n",
      "28 Course 9670.0 one_hot\n",
      "29 Course 9130.0 one_hot\n",
      "30 Course 171.0 one_hot\n",
      "31 Course 9003.0 one_hot\n",
      "32 Course 9773.0 one_hot\n",
      "33 Course 8014.0 one_hot\n",
      "34 Course 9070.0 one_hot\n",
      "35 Course 9085.0 one_hot\n",
      "36 Course 9556.0 one_hot\n",
      "37 Course 9238.0 one_hot\n",
      "38 Course 9147.0 one_hot\n",
      "39 Course 9500.0 one_hot\n",
      "40 Course 9853.0 one_hot\n",
      "41 Course 9119.0 one_hot\n",
      "42 Daytime/evening attendance\t raw\n",
      "43 Previous qualification 1.0 one_hot\n",
      "44 Previous qualification 2.0 one_hot\n",
      "45 Previous qualification 3.0 one_hot\n",
      "46 Previous qualification 4.0 one_hot\n",
      "47 Previous qualification 5.0 one_hot\n",
      "48 Previous qualification 6.0 one_hot\n",
      "49 Previous qualification 39.0 one_hot\n",
      "50 Previous qualification 40.0 one_hot\n",
      "51 Previous qualification 9.0 one_hot\n",
      "52 Previous qualification 10.0 one_hot\n",
      "53 Previous qualification 42.0 one_hot\n",
      "54 Previous qualification 12.0 one_hot\n",
      "55 Previous qualification 43.0 one_hot\n",
      "56 Previous qualification 38.0 one_hot\n",
      "57 Previous qualification 15.0 one_hot\n",
      "58 Previous qualification 14.0 one_hot\n",
      "59 Previous qualification 19.0 one_hot\n",
      "60 Previous qualification (grade) std\n",
      "61 Nacionality 1.0 one_hot\n",
      "62 Nacionality 2.0 one_hot\n",
      "63 Nacionality 6.0 one_hot\n",
      "64 Nacionality 11.0 one_hot\n",
      "65 Nacionality 13.0 one_hot\n",
      "66 Nacionality 14.0 one_hot\n",
      "67 Nacionality 17.0 one_hot\n",
      "68 Nacionality 21.0 one_hot\n",
      "69 Nacionality 22.0 one_hot\n",
      "70 Nacionality 24.0 one_hot\n",
      "71 Nacionality 25.0 one_hot\n",
      "72 Nacionality 26.0 one_hot\n",
      "73 Nacionality 41.0 one_hot\n",
      "74 Nacionality 62.0 one_hot\n",
      "75 Nacionality 100.0 one_hot\n",
      "76 Nacionality 101.0 one_hot\n",
      "77 Nacionality 103.0 one_hot\n",
      "78 Nacionality 105.0 one_hot\n",
      "79 Nacionality 109.0 one_hot\n",
      "80 Mother's qualification 1.0 one_hot\n",
      "81 Mother's qualification 2.0 one_hot\n",
      "82 Mother's qualification 3.0 one_hot\n",
      "83 Mother's qualification 4.0 one_hot\n",
      "84 Mother's qualification 5.0 one_hot\n",
      "85 Mother's qualification 6.0 one_hot\n",
      "86 Mother's qualification 9.0 one_hot\n",
      "87 Mother's qualification 10.0 one_hot\n",
      "88 Mother's qualification 11.0 one_hot\n",
      "89 Mother's qualification 12.0 one_hot\n",
      "90 Mother's qualification 14.0 one_hot\n",
      "91 Mother's qualification 18.0 one_hot\n",
      "92 Mother's qualification 19.0 one_hot\n",
      "93 Mother's qualification 22.0 one_hot\n",
      "94 Mother's qualification 26.0 one_hot\n",
      "95 Mother's qualification 27.0 one_hot\n",
      "96 Mother's qualification 29.0 one_hot\n",
      "97 Mother's qualification 30.0 one_hot\n",
      "98 Mother's qualification 34.0 one_hot\n",
      "99 Mother's qualification 35.0 one_hot\n",
      "100 Mother's qualification 36.0 one_hot\n",
      "101 Mother's qualification 37.0 one_hot\n",
      "102 Mother's qualification 38.0 one_hot\n",
      "103 Mother's qualification 39.0 one_hot\n",
      "104 Mother's qualification 40.0 one_hot\n",
      "105 Mother's qualification 41.0 one_hot\n",
      "106 Mother's qualification 42.0 one_hot\n",
      "107 Mother's qualification 43.0 one_hot\n",
      "108 Mother's qualification 44.0 one_hot\n",
      "109 Father's qualification 1.0 one_hot\n",
      "110 Father's qualification 2.0 one_hot\n",
      "111 Father's qualification 3.0 one_hot\n",
      "112 Father's qualification 4.0 one_hot\n",
      "113 Father's qualification 5.0 one_hot\n",
      "114 Father's qualification 6.0 one_hot\n",
      "115 Father's qualification 9.0 one_hot\n",
      "116 Father's qualification 10.0 one_hot\n",
      "117 Father's qualification 11.0 one_hot\n",
      "118 Father's qualification 12.0 one_hot\n",
      "119 Father's qualification 13.0 one_hot\n",
      "120 Father's qualification 14.0 one_hot\n",
      "121 Father's qualification 18.0 one_hot\n",
      "122 Father's qualification 19.0 one_hot\n",
      "123 Father's qualification 20.0 one_hot\n",
      "124 Father's qualification 22.0 one_hot\n",
      "125 Father's qualification 25.0 one_hot\n",
      "126 Father's qualification 26.0 one_hot\n",
      "127 Father's qualification 27.0 one_hot\n",
      "128 Father's qualification 29.0 one_hot\n",
      "129 Father's qualification 30.0 one_hot\n",
      "130 Father's qualification 31.0 one_hot\n",
      "131 Father's qualification 33.0 one_hot\n",
      "132 Father's qualification 34.0 one_hot\n",
      "133 Father's qualification 35.0 one_hot\n",
      "134 Father's qualification 36.0 one_hot\n",
      "135 Father's qualification 37.0 one_hot\n",
      "136 Father's qualification 38.0 one_hot\n",
      "137 Father's qualification 39.0 one_hot\n",
      "138 Father's qualification 40.0 one_hot\n",
      "139 Father's qualification 41.0 one_hot\n",
      "140 Father's qualification 42.0 one_hot\n",
      "141 Father's qualification 43.0 one_hot\n",
      "142 Father's qualification 44.0 one_hot\n",
      "143 Mother's occupation 0.0 one_hot\n",
      "144 Mother's occupation 1.0 one_hot\n",
      "145 Mother's occupation 2.0 one_hot\n",
      "146 Mother's occupation 3.0 one_hot\n",
      "147 Mother's occupation 4.0 one_hot\n",
      "148 Mother's occupation 5.0 one_hot\n",
      "149 Mother's occupation 6.0 one_hot\n",
      "150 Mother's occupation 7.0 one_hot\n",
      "151 Mother's occupation 8.0 one_hot\n",
      "152 Mother's occupation 9.0 one_hot\n",
      "153 Mother's occupation 132.0 one_hot\n",
      "154 Mother's occupation 10.0 one_hot\n",
      "155 Mother's occupation 134.0 one_hot\n",
      "156 Mother's occupation 141.0 one_hot\n",
      "157 Mother's occupation 143.0 one_hot\n",
      "158 Mother's occupation 144.0 one_hot\n",
      "159 Mother's occupation 151.0 one_hot\n",
      "160 Mother's occupation 152.0 one_hot\n",
      "161 Mother's occupation 153.0 one_hot\n",
      "162 Mother's occupation 171.0 one_hot\n",
      "163 Mother's occupation 175.0 one_hot\n",
      "164 Mother's occupation 191.0 one_hot\n",
      "165 Mother's occupation 192.0 one_hot\n",
      "166 Mother's occupation 193.0 one_hot\n",
      "167 Mother's occupation 194.0 one_hot\n",
      "168 Mother's occupation 90.0 one_hot\n",
      "169 Mother's occupation 99.0 one_hot\n",
      "170 Mother's occupation 123.0 one_hot\n",
      "171 Mother's occupation 125.0 one_hot\n",
      "172 Father's occupation 0.0 one_hot\n",
      "173 Father's occupation 1.0 one_hot\n",
      "174 Father's occupation 2.0 one_hot\n",
      "175 Father's occupation 3.0 one_hot\n",
      "176 Father's occupation 4.0 one_hot\n",
      "177 Father's occupation 5.0 one_hot\n",
      "178 Father's occupation 6.0 one_hot\n",
      "179 Father's occupation 7.0 one_hot\n",
      "180 Father's occupation 8.0 one_hot\n",
      "181 Father's occupation 9.0 one_hot\n",
      "182 Father's occupation 10.0 one_hot\n",
      "183 Father's occupation 131.0 one_hot\n",
      "184 Father's occupation 135.0 one_hot\n",
      "185 Father's occupation 141.0 one_hot\n",
      "186 Father's occupation 143.0 one_hot\n",
      "187 Father's occupation 144.0 one_hot\n",
      "188 Father's occupation 151.0 one_hot\n",
      "189 Father's occupation 152.0 one_hot\n",
      "190 Father's occupation 153.0 one_hot\n",
      "191 Father's occupation 154.0 one_hot\n",
      "192 Father's occupation 163.0 one_hot\n",
      "193 Father's occupation 171.0 one_hot\n",
      "194 Father's occupation 172.0 one_hot\n",
      "195 Father's occupation 174.0 one_hot\n",
      "196 Father's occupation 175.0 one_hot\n",
      "197 Father's occupation 181.0 one_hot\n",
      "198 Father's occupation 182.0 one_hot\n",
      "199 Father's occupation 183.0 one_hot\n",
      "200 Father's occupation 192.0 one_hot\n",
      "201 Father's occupation 193.0 one_hot\n",
      "202 Father's occupation 194.0 one_hot\n",
      "203 Father's occupation 195.0 one_hot\n",
      "204 Father's occupation 90.0 one_hot\n",
      "205 Father's occupation 99.0 one_hot\n",
      "206 Father's occupation 101.0 one_hot\n",
      "207 Father's occupation 102.0 one_hot\n",
      "208 Father's occupation 103.0 one_hot\n",
      "209 Father's occupation 112.0 one_hot\n",
      "210 Father's occupation 114.0 one_hot\n",
      "211 Father's occupation 122.0 one_hot\n",
      "212 Father's occupation 123.0 one_hot\n",
      "213 Father's occupation 124.0 one_hot\n",
      "214 Admission grade std\n",
      "215 Displaced raw\n",
      "216 Educational special needs raw\n",
      "217 Debtor raw\n",
      "218 Tuition fees up to date raw\n",
      "219 Gender raw\n",
      "220 Scholarship holder raw\n",
      "221 Age at enrollment raw\n",
      "222 International raw\n",
      "223 Curricular units 1st sem (credited) raw\n",
      "224 Curricular units 1st sem (enrolled) raw\n",
      "225 Curricular units 1st sem (evaluations) raw\n",
      "226 Curricular units 1st sem (approved) raw\n",
      "227 Curricular units 1st sem (grade) raw\n",
      "228 Curricular units 1st sem (without evaluations) raw\n",
      "229 Curricular units 2nd sem (credited) raw\n",
      "230 Curricular units 2nd sem (enrolled) raw\n",
      "231 Curricular units 2nd sem (evaluations) raw\n",
      "232 Curricular units 2nd sem (approved) raw\n",
      "233 Curricular units 2nd sem (grade) raw\n",
      "234 Curricular units 2nd sem (without evaluations) raw\n",
      "235 Unemployment rate std\n",
      "236 Inflation rate std\n",
      "237 GDP std\n",
      "\n",
      "Data shape: (3630, 238)\n",
      "Labels shape: (3630, 1)\n"
     ]
    }
   ],
   "source": [
    "X, y = preprocess(student_data, features, verbose=True)\n",
    "print('\\nData shape:', X.shape)\n",
    "print('Labels shape:', y.shape)"
   ]
  },
  {
   "attachments": {},
   "cell_type": "markdown",
   "metadata": {},
   "source": [
    "## Train/Test split"
   ]
  },
  {
   "cell_type": "code",
   "execution_count": 63,
   "metadata": {},
   "outputs": [],
   "source": [
    "def random_split(data, labels, test_pct=0.2, seed=None):\n",
    "    if seed and isinstance(seed, int):\n",
    "        np.random.seed(seed)\n",
    "    n, d = data.shape\n",
    "    idxs = np.random.permutation(n)\n",
    "    split_pt = int((1 - test_pct) * n)\n",
    "    train_idxs, test_idxs = idxs[:split_pt], idxs[split_pt:]\n",
    "    X_train, y_train = data[train_idxs, :], labels[train_idxs, :]\n",
    "    X_test, y_test = data[test_idxs, :], labels[test_idxs, :]\n",
    "    return X_train, y_train, X_test, y_test"
   ]
  },
  {
   "cell_type": "code",
   "execution_count": 64,
   "metadata": {},
   "outputs": [],
   "source": [
    "def stratified_split(data, labels, test_pct=0.2, seed=None):\n",
    "    if seed and isinstance(seed, int):\n",
    "        np.random.seed(seed)\n",
    "    unique_labels, label_counts = np.unique(labels, return_counts=True)\n",
    "    test_label_counts = (label_counts * test_pct).astype(int)\n",
    "    train_label_counts = label_counts - test_label_counts\n",
    "    train_idxs, test_idxs = [], []\n",
    "    for label, train_count, test_count in zip(unique_labels, train_label_counts, test_label_counts):\n",
    "        label_idxs = np.where(labels == label)[0] # return an array of indexes\n",
    "        permuted_idxs = np.random.permutation(label_idxs)\n",
    "        train_idxs.extend(permuted_idxs[:train_count])\n",
    "        test_idxs.extend(permuted_idxs[train_count:])\n",
    "    X_train, y_train = data[train_idxs], labels[train_idxs]\n",
    "    X_test, y_test = data[test_idxs], labels[test_idxs]\n",
    "    return X_train, y_train, X_test, y_test"
   ]
  },
  {
   "cell_type": "code",
   "execution_count": 65,
   "metadata": {},
   "outputs": [],
   "source": [
    "# X_train, y_train, X_test, y_test = random_split(X, y)\n",
    "X_train, y_train, X_test, y_test = stratified_split(X, y)"
   ]
  },
  {
   "cell_type": "code",
   "execution_count": 66,
   "metadata": {},
   "outputs": [
    {
     "name": "stdout",
     "output_type": "stream",
     "text": [
      "Train labels:\n",
      "  -1.0 appears 1137 times - 39.14%\n",
      "  1.0 appears 1768 times - 60.86%\n",
      "Test labels:\n",
      "  -1.0 appears 284 times - 39.17%\n",
      "  1.0 appears 441 times - 60.83%\n"
     ]
    },
    {
     "data": {
      "image/png": "[encoded data removed]",
      "text/plain": [
       "<Figure size 864x360 with 2 Axes>"
      ]
     },
     "metadata": {
      "needs_background": "light"
     },
     "output_type": "display_data"
    }
   ],
   "source": [
    "def value_counts(y):\n",
    "    vals, cnts = np.unique(y, return_counts=True)\n",
    "    probs = cnts / np.sum(cnts)\n",
    "    for value, count, prob in zip(vals, cnts, probs):\n",
    "        print(f\"  {value} appears {count} times - {prob*100:.2f}%\")\n",
    "    return vals, cnts, probs\n",
    "\n",
    "print('Train labels:')\n",
    "train_vals, train_cnts, train_probs = value_counts(y_train)\n",
    "print('Test labels:')\n",
    "test_vals, test_cnts, test_probs = value_counts(y_test)\n",
    "\n",
    "fig, (ax1, ax2) = plt.subplots(1, 2, figsize=(12, 5))\n",
    "    \n",
    "ax1.bar(train_vals, train_probs)\n",
    "ax1.set_title(\"Training set\")\n",
    "ax1.set_xlabel(\"Unique value\")\n",
    "ax1.set_ylabel(\"Probability\")\n",
    "\n",
    "ax2.bar(test_vals, test_probs)\n",
    "ax2.set_title(\"Testing set\")\n",
    "ax2.set_xlabel(\"Unique value\")\n",
    "ax2.set_ylabel(\"Probability\")\n",
    "\n",
    "# plt.savefig('images/strat_split.png')\n",
    "plt.show()"
   ]
  },
  {
   "cell_type": "code",
   "execution_count": 67,
   "metadata": {},
   "outputs": [],
   "source": [
    "# split train set again to attain new train set and validation set\n",
    "X_dev, y_dev, X_val, y_val = stratified_split(X_train, y_train)"
   ]
  },
  {
   "attachments": {},
   "cell_type": "markdown",
   "metadata": {},
   "source": [
    "# Metrics"
   ]
  },
  {
   "attachments": {},
   "cell_type": "markdown",
   "metadata": {},
   "source": [
    "Using Laplace smoothing"
   ]
  },
  {
   "cell_type": "code",
   "execution_count": 68,
   "metadata": {},
   "outputs": [],
   "source": [
    "# Calculate accuracy\n",
    "def accuracy(y_pred, y_true):\n",
    "    return np.sum(y_true == y_pred) / len(y_true)\n",
    "\n",
    "# Calculate precision\n",
    "def precision(y_pred, y_true):\n",
    "    class_labels = np.unique(y_true)  # Get unique class labels\n",
    "    k = len(class_labels)\n",
    "    precision_scores = []\n",
    "    for label in class_labels:\n",
    "        TP = np.sum(np.logical_and(y_pred == label, y_true == label))\n",
    "        FP = np.sum(np.logical_and(y_pred == label, y_true != label))\n",
    "        precision = (TP + 1e-8) / (TP + FP + 1e-8 * k)\n",
    "        precision_scores.append(precision)\n",
    "    average_precision = np.mean(precision_scores)\n",
    "    return average_precision\n",
    "\n",
    "# Calculate recall\n",
    "def recall(y_pred, y_true):\n",
    "    class_labels = np.unique(y_true)  # Get unique class labels\n",
    "    k = len(class_labels)\n",
    "    recall_scores = []\n",
    "    for label in class_labels:\n",
    "        TP = np.sum(np.logical_and(y_pred == label, y_true == label))\n",
    "        FN = np.sum(np.logical_and(y_pred != label, y_true == label))\n",
    "        recall = (TP + 1e-8) / (TP + FN + 1e-8 * k)\n",
    "        recall_scores.append(recall)\n",
    "    average_recall = np.mean(recall_scores)\n",
    "    return average_recall\n",
    "\n",
    "# Calculate F1 score\n",
    "def f1(y_pred, y_true):\n",
    "    class_labels = np.unique(y_true)  # Get unique class labels\n",
    "    k = len(class_labels)\n",
    "    f1_scores = []\n",
    "    for label in class_labels:\n",
    "        TP = np.sum(np.logical_and(y_pred == label, y_true == label))\n",
    "        FP = np.sum(np.logical_and(y_pred == label, y_true != label))\n",
    "        FN = np.sum(np.logical_and(y_pred != label, y_true == label))\n",
    "        precision = (TP + 1e-8) / (TP + FP + 1e-8 * k)\n",
    "        recall = (TP + 1e-8) / (TP + FN + 1e-8 * k)\n",
    "        f1 = 2 * (precision * recall) / (precision + recall)\n",
    "        f1_scores.append(f1)\n",
    "    average_f1 = np.mean(f1_scores)\n",
    "    return average_f1\n",
    "\n",
    "# Confusion matrix\n",
    "def confusion_matrix(y_pred, y_true):\n",
    "    class_labels = np.unique(y_true)  # Get unique class labels\n",
    "    TPs, FPs, FNs, TNs = [], [], [], []\n",
    "    for label in class_labels:\n",
    "        TP = np.sum(np.logical_and(y_pred == label, y_true == label))\n",
    "        FP = np.sum(np.logical_and(y_pred == label, y_true != label))\n",
    "        FN = np.sum(np.logical_and(y_pred != label, y_true == label))\n",
    "        TN = np.sum(np.logical_and(y_pred != label, y_true != label))\n",
    "        TPs.append(TP)\n",
    "        FPs.append(FP)\n",
    "        FNs.append(FN)\n",
    "        TNs.append(TN)\n",
    "    return np.array([[int(np.mean(TPs)), int(np.mean(FPs))], [int(np.mean(FNs)), int(np.mean(TNs))]])"
   ]
  },
  {
   "attachments": {},
   "cell_type": "markdown",
   "metadata": {},
   "source": [
    "# Models"
   ]
  },
  {
   "attachments": {},
   "cell_type": "markdown",
   "metadata": {},
   "source": [
    "## Decision Tree"
   ]
  },
  {
   "cell_type": "code",
   "execution_count": 69,
   "metadata": {},
   "outputs": [],
   "source": [
    "# Decision tree node class\n",
    "class DTNode:\n",
    "    N_THRESHOLD = 4 # don't split if node has fewer examples than this\n",
    "    H_THRESHOLD = .01 # don't split if node has entropy less than this\n",
    "    H_REDUCTION_THRESHOLD = .001 # don't split if entropy reduction is less than this\n",
    "    MAX_DEPTH = 10\n",
    "    index = 0\n",
    "\n",
    "    def __init__(self, data=None, config=None, depth=0):\n",
    "        self.config = config\n",
    "        self.depth = depth\n",
    "        if config != None:\n",
    "            self.N_THRESHOLD = config[0]\n",
    "            self.H_THRESHOLD = config[1]\n",
    "            self.H_REDUCTION_THRESHOLD = config[2]\n",
    "            self.MAX_DEPTH = config[3]\n",
    "        \n",
    "        DTNode.index += 1\n",
    "        self.index = DTNode.index # node has unique number\n",
    "        self.data = data\n",
    "        self.prob = None\n",
    "        if data is not None:\n",
    "            self.n = float(data.shape[0]) # number of examples\n",
    "            self.indices = range(data.shape[1] - 1) # feature indices\n",
    "            self.set_h()\n",
    "\n",
    "        self.splits = {}\n",
    "\n",
    "        self.feat_id = None # feature index\n",
    "        self.thres = None # threshold\n",
    "        self.lchild = None # left child\n",
    "        self.rchild = None # right child\n",
    "        self.parent = None\n",
    "\n",
    "    # Create split on feature 'i' at value 'th'\n",
    "    def split(self, i, th):\n",
    "        self.feat_id = i\n",
    "        self.thres = th\n",
    "        self.lchild = DTNode(self.data[self.data[:, i] < th], self.config)\n",
    "        self.rchild = DTNode(self.data[self.data[:, i] >= th], self.config)\n",
    "        self.splits[i].remove(th)\n",
    "\n",
    "    # Evaluate candidate split by weighted average entropy\n",
    "    def split_eval(self, i, th):\n",
    "        lc = DTNode(self.data[self.data[:, i] < th], self.config, self.depth + 1)\n",
    "        rc = DTNode(self.data[self.data[:, i] >= th], self.config, self.depth + 1)\n",
    "        pl = lc.n / self.n\n",
    "        pr = 1.0 - pl\n",
    "        avgH = pl * lc.H + pr * rc.H\n",
    "        return avgH, lc, rc\n",
    "    \n",
    "    # Entropy of class labels in this node, assumes 1, -1\n",
    "    def set_h(self):\n",
    "        b = .001\n",
    "        npos = np.sum(self.data[:,-1] == 1) # count labels 1\n",
    "        p = (npos + b) / (self.n + b + b)\n",
    "        self.prob = p\n",
    "        self.H = -p * np.log(p) - (1-p) * np.log(1-p)\n",
    "\n",
    "    def build_tree(self):\n",
    "        if self.H < self.H_THRESHOLD or self.n <= self.N_THRESHOLD:\n",
    "            return\n",
    "        if self.depth >= self.MAX_DEPTH:\n",
    "            return\n",
    "        # Find the best split\n",
    "        (i, th, (h, lc, rc)) = argmax([(i, th, self.split_eval(i, th)) \\\n",
    "                                            for i in self.indices \\\n",
    "                                            for th in self.get_splits(i)],\n",
    "                                        lambda x : -x[2][0]) # x = (a, b, (h, c, d))\n",
    "        \n",
    "        if (self.H - h) < self.H_REDUCTION_THRESHOLD:\n",
    "            return\n",
    "        \n",
    "        \n",
    "        # Recurse\n",
    "        self.feat_id = i\n",
    "        self.thres = th\n",
    "        self.lchild = lc\n",
    "        self.rchild = rc\n",
    "        self.lchild.parent = self\n",
    "        self.rchild.parent = self\n",
    "        self.lchild.build_tree()\n",
    "        self.rchild.build_tree()\n",
    "    \n",
    "    # Sort examples and return middle points between every two consecutive samples\n",
    "    def get_splits(self, i):\n",
    "        if i not in self.splits:\n",
    "            # d = np.sort(np.unique(self.data[:,i]), axis=None)\n",
    "            # d1 = d[:-1]\n",
    "            # d2 = d[1:]\n",
    "            # self.splits[i] = (d1 + d2) / 2.0\n",
    "            self.splits[i] = np.sort(np.unique(self.data[:,i]), axis=None)\n",
    "        return self.splits[i]\n",
    "\n",
    "    # Classify a data point\n",
    "    def classify(self, x):\n",
    "        if self.feat_id == None: # leaf node\n",
    "            return self.prob\n",
    "        elif x[self.feat_id] < self.thres:\n",
    "            return self.lchild.classify(x) # go to left child\n",
    "        else:\n",
    "            return self.rchild.classify(x) # go to right child\n",
    "        \n",
    "    def display(self, depth=0, max_depth=3):\n",
    "        if depth > max_depth:\n",
    "            print(depth*'  ', 'Depth >', max_depth)\n",
    "        if self.feat_id is None:\n",
    "            print(depth*'  ', '=>', '%.2f'%self.prob, '[ n=', self.n, ']')\n",
    "            return\n",
    "        print(depth*'  ', 'Ft.', self.feat_id, '<', '%.2f'%self.thres, '[ n=', self.n, ']')\n",
    "        self.lchild.display(depth+1, max_depth)\n",
    "        self.rchild.display(depth+1, max_depth)\n",
    "\n",
    "def argmax(l, f):\n",
    "    \"\"\"\n",
    "    Return the element in list l that gives highest value on f\n",
    "\n",
    "    @param l: C{List} of items\n",
    "    @param f: C{Procedure} that maps an item into a numeric score\n",
    "    @returns: the element of C{l} that has the highest score\n",
    "    \"\"\"\n",
    "    vals = [f(x) for x in l]\n",
    "    return l[vals.index(max(vals))]"
   ]
  },
  {
   "cell_type": "code",
   "execution_count": 70,
   "metadata": {},
   "outputs": [],
   "source": [
    "class DecisionTree:\n",
    "    def fit(self, X, Y, config=None):\n",
    "        D = np.hstack([X,Y])\n",
    "        self.root = DTNode(D, config)\n",
    "        self.root.build_tree()\n",
    "    def predict(self, X):\n",
    "        pred = np.array([np.apply_along_axis(self.root.classify, 1, X)]).T - 0.5\n",
    "        pred[pred >= 0] = 1\n",
    "        pred[pred < 0] = -1\n",
    "        return pred\n",
    "    def display(self, depth=0, max_depth=3):\n",
    "        self.root.display(depth, max_depth)"
   ]
  },
  {
   "attachments": {},
   "cell_type": "markdown",
   "metadata": {},
   "source": [
    "## Bagging"
   ]
  },
  {
   "cell_type": "code",
   "execution_count": 71,
   "metadata": {},
   "outputs": [],
   "source": [
    "class Bagging:\n",
    "    def __init__(self, num_trees=5):\n",
    "        self.ntrees = num_trees\n",
    "        self.trees = []\n",
    "    def fit(self, X, Y, config=None):\n",
    "        for i in range(self.ntrees):\n",
    "            idxs = np.random.choice(len(X), size=len(X), replace=True)\n",
    "            X_train = X[idxs, :]\n",
    "            Y_train = Y[idxs, :]\n",
    "            dt = DecisionTree()\n",
    "            dt.fit(X_train, Y_train, config)\n",
    "            self.trees.append(dt)\n",
    "    def predict(self, X):\n",
    "        preds = []\n",
    "        if len(self.trees) == 0: return None\n",
    "        for dt in self.trees:\n",
    "            pred = dt.predict(X)\n",
    "            preds.append(pred)\n",
    "        preds = np.hstack(preds)\n",
    "        return np.sign(preds.mean(axis=1, keepdims=True))"
   ]
  },
  {
   "attachments": {},
   "cell_type": "markdown",
   "metadata": {},
   "source": [
    "## Random Forest"
   ]
  },
  {
   "cell_type": "code",
   "execution_count": 72,
   "metadata": {},
   "outputs": [],
   "source": [
    "class RandomForest:\n",
    "    def __init__(self, num_trees=5, num_features=None):\n",
    "        self.ntrees = num_trees\n",
    "        self.nfeats = num_features\n",
    "        self.trees = []\n",
    "        self.feats = []\n",
    "    \n",
    "    def fit(self, X, Y, config=None):\n",
    "        for i in range(self.ntrees):\n",
    "            idxs = np.random.choice(len(X), size=len(X), replace=True)\n",
    "            if self.nfeats is not None:\n",
    "                features = np.random.choice(X.shape[1], size=self.nfeats, replace=False)\n",
    "                X_train = X[idxs][:, features]\n",
    "                self.feats.append(features)\n",
    "            else:\n",
    "                X_train = X[idxs]\n",
    "            Y_train = Y[idxs]\n",
    "            dt = DecisionTree()\n",
    "            dt.fit(X_train, Y_train, config)\n",
    "            self.trees.append(dt)\n",
    "    \n",
    "    def predict(self, X):\n",
    "        preds = []\n",
    "        if len(self.trees) == 0:\n",
    "            return None\n",
    "        for i in range(len(self.trees)):\n",
    "            dt = self.trees[i]\n",
    "            if self.nfeats is not None:\n",
    "                features = self.feats[i]\n",
    "                X_test = X[:, features]\n",
    "            else:\n",
    "                X_test = X\n",
    "                \n",
    "            pred = dt.predict(X_test)\n",
    "            preds.append(pred)\n",
    "        preds = np.hstack(preds)\n",
    "        return np.sign(np.mean(preds, axis=1, keepdims=True))"
   ]
  },
  {
   "cell_type": "code",
   "execution_count": 73,
   "metadata": {},
   "outputs": [],
   "source": [
    "def evaluate(model_class, X_train, Y_train, X_test, Y_test, max_depth=5, verbose=True, config=None, args=None):\n",
    "    if args:\n",
    "        model = model_class(*args)\n",
    "    else:\n",
    "        model = model_class()\n",
    "    model.fit(X_train, Y_train, config)\n",
    "    pred_test = model.predict(X_test)\n",
    "    acc_s = accuracy(pred_test, Y_test)\n",
    "    prec_s = precision(pred_test, Y_test)\n",
    "    rec_s = recall(pred_test, Y_test)\n",
    "    f1_s = f1(pred_test, Y_test)\n",
    "    if verbose:\n",
    "        print(f'  Accuracy  : {acc_s:.5f}')\n",
    "        print(f'  Precision : {prec_s:.5f}')\n",
    "        print(f'  Recall    : {rec_s:.5f}')\n",
    "        print(f'  F1        : {f1_s:.5f}')\n",
    "        if isinstance(model, DecisionTree): \n",
    "            model.display(max_depth=max_depth)\n",
    "    return acc_s, prec_s, rec_s, f1_s"
   ]
  },
  {
   "cell_type": "code",
   "execution_count": 22,
   "metadata": {},
   "outputs": [
    {
     "name": "stdout",
     "output_type": "stream",
     "text": [
      "Round 1\n",
      "  Accuracy  : 0.90361\n",
      "  Precision : 0.91922\n",
      "  Recall    : 0.88797\n",
      "  F1        : 0.90143\n",
      "Round 2\n",
      "  Accuracy  : 0.87435\n",
      "  Precision : 0.91706\n",
      "  Recall    : 0.85933\n",
      "  F1        : 0.88323\n",
      "Round 3\n",
      "  Accuracy  : 0.90189\n",
      "  Precision : 0.91536\n",
      "  Recall    : 0.88610\n",
      "  F1        : 0.89902\n",
      "Round 4\n",
      "  Accuracy  : 0.90361\n",
      "  Precision : 0.92300\n",
      "  Recall    : 0.89070\n",
      "  F1        : 0.90482\n",
      "Round 5\n",
      "  Accuracy  : 0.88468\n",
      "  Precision : 0.92538\n",
      "  Recall    : 0.86716\n",
      "  F1        : 0.89090\n",
      "\n",
      "CROSS VALIDATION RESULTS:\n",
      "- Avg. Accuracy  : 0.89363\n",
      "- Avg. Precision : 0.92001\n",
      "- Avg. Recall    : 0.87825\n",
      "- Avg. F1        : 0.89588\n"
     ]
    },
    {
     "data": {
      "text/plain": [
       "(0.893631669535284, 0.9200055399441547, 0.8782505832441372, 0.8958808017780345)"
      ]
     },
     "execution_count": 22,
     "metadata": {},
     "output_type": "execute_result"
    }
   ],
   "source": [
    "def cross_validate(data, labels, k=10, model='DecisionTree', verbose=True, config=None, args=None):\n",
    "    if model == 'Bagging':\n",
    "        model_class = Bagging\n",
    "    elif model == 'RandomForest':\n",
    "        model_class = RandomForest\n",
    "    else:\n",
    "        model_class = DecisionTree\n",
    "    indices = np.random.permutation(data.shape[0])\n",
    "    X = data[indices,:]\n",
    "    Y = labels[indices,:]\n",
    "    s_data = np.array_split(X, k, axis=0)\n",
    "    s_labels = np.array_split(Y, k, axis=0)\n",
    "    acc_s = 0.\n",
    "    prec_s = 0.\n",
    "    rec_s = 0.\n",
    "    f1_s = 0.\n",
    "    for i in range(k):\n",
    "        X_train = np.concatenate(s_data[:i] + s_data[i+1:], axis=0)\n",
    "        Y_train = np.concatenate(s_labels[:i] + s_labels[i+1:], axis=0)\n",
    "        X_test = np.array(s_data[i])\n",
    "        Y_test = np.array(s_labels[i])\n",
    "        if verbose == \"first_tree\":\n",
    "            if i == 0:\n",
    "                acc, prec, rec, f1 = evaluate(model_class, X_train, Y_train, X_test, Y_test, verbose=True, config=config, args=args)\n",
    "            else:\n",
    "                acc, prec, rec, f1 = evaluate(model_class, X_train, Y_train, X_test, Y_test, verbose=False, config=config, args=args)\n",
    "        elif verbose == True:\n",
    "            print('Round',i+1)\n",
    "            acc, prec, rec, f1 = evaluate(model_class, X_train, Y_train, X_test, Y_test, verbose=True, config=config, args=args)\n",
    "        else:\n",
    "            acc, prec, rec, f1 = evaluate(model_class, X_train, Y_train, X_test, Y_test, verbose=False, config=config, args=args)\n",
    "        acc_s += acc\n",
    "        prec_s += prec\n",
    "        rec_s += rec\n",
    "        f1_s += f1\n",
    "    print('\\nCROSS VALIDATION RESULTS:')\n",
    "    print(f'- Avg. Accuracy  : {acc_s/k:.5f}')\n",
    "    print(f'- Avg. Precision : {prec_s/k:.5f}')\n",
    "    print(f'- Avg. Recall    : {rec_s/k:.5f}')\n",
    "    print(f'- Avg. F1        : {f1_s/k:.5f}')\n",
    "    return acc_s/k, prec_s/k, rec_s/k, f1_s/k\n",
    "\n",
    "# cross_validate(X_train, y_train, k=5, verbose=True, config=[4, .01, .001, 3])\n",
    "cross_validate(X_train, y_train, model='RandomForest', k=5, verbose=True, args=[10, 200])\n",
    "# cross_validate(X_train, y_train, model='Bagging', k=5, verbose=True, args=[7])\n"
   ]
  },
  {
   "attachments": {},
   "cell_type": "markdown",
   "metadata": {},
   "source": [
    "# Plotting"
   ]
  },
  {
   "attachments": {},
   "cell_type": "markdown",
   "metadata": {},
   "source": [
    "## For decision tree"
   ]
  },
  {
   "cell_type": "code",
   "execution_count": 107,
   "metadata": {},
   "outputs": [
    {
     "name": "stdout",
     "output_type": "stream",
     "text": [
      "Max depth 1 done\n",
      "Max depth 2 done\n",
      "Max depth 3 done\n",
      "Max depth 4 done\n",
      "Max depth 5 done\n",
      "Max depth 6 done\n",
      "Max depth 7 done\n",
      "Max depth 8 done\n",
      "Max depth 9 done\n",
      "Max depth 10 done\n"
     ]
    }
   ],
   "source": [
    "max_depths = np.arange(1, 11)\n",
    "accs = []\n",
    "precs = []\n",
    "recs = []\n",
    "f1s = []\n",
    "\n",
    "for max_d in max_depths:\n",
    "    acc, prec, rec, f1_ = evaluate(DecisionTree, X_dev, y_dev, X_val, y_val, config=[4, .01, .001, max_d], verbose=False)\n",
    "    accs.append(acc)\n",
    "    precs.append(prec)\n",
    "    recs.append(rec)\n",
    "    f1s.append(f1_)\n",
    "    print(f'Max depth {max_d} done')"
   ]
  },
  {
   "cell_type": "code",
   "execution_count": 109,
   "metadata": {},
   "outputs": [
    {
     "data": {
      "image/png": "[encoded data removed]",
      "text/plain": [
       "<Figure size 720x576 with 4 Axes>"
      ]
     },
     "metadata": {
      "needs_background": "light"
     },
     "output_type": "display_data"
    }
   ],
   "source": [
    "fig, ((ax1, ax2), (ax3, ax4)) = plt.subplots(2, 2, figsize=(10, 8))\n",
    "fig.suptitle(\"Decision Tree (varying max depths)\")\n",
    "\n",
    "ax1.plot(max_depths, accs)\n",
    "ax1.set_title(\"Accuracy\")\n",
    "ax1.set_xlabel(\"Max depth\")\n",
    "\n",
    "ax2.plot(max_depths, precs)\n",
    "ax2.set_title(\"Precision\")\n",
    "ax2.set_xlabel(\"Max depth\")\n",
    "\n",
    "ax3.plot(max_depths, recs)\n",
    "ax3.set_title(\"Recall\")\n",
    "ax3.set_xlabel(\"Max depth\")\n",
    "\n",
    "ax4.plot(max_depths, f1s)\n",
    "ax4.set_title(\"F1 score\")\n",
    "ax4.set_xlabel(\"Max depth\")\n",
    "\n",
    "plt.tight_layout()  # Optional: Adjust the spacing between subplots\n",
    "\n",
    "plt.savefig('images/dt_max_depths.png')\n",
    "plt.show()"
   ]
  },
  {
   "attachments": {},
   "cell_type": "markdown",
   "metadata": {},
   "source": [
    "## For random forest"
   ]
  },
  {
   "attachments": {},
   "cell_type": "markdown",
   "metadata": {},
   "source": [
    "Varying the number of features with the number of trees fixed"
   ]
  },
  {
   "cell_type": "code",
   "execution_count": 91,
   "metadata": {},
   "outputs": [
    {
     "name": "stdout",
     "output_type": "stream",
     "text": [
      "N. feats: 1 done\n",
      "N. feats: 2 done\n",
      "N. feats: 3 done\n",
      "N. feats: 4 done\n",
      "N. feats: 5 done\n",
      "N. feats: 7 done\n",
      "N. feats: 10 done\n",
      "N. feats: 13 done\n",
      "N. feats: 17 done\n",
      "N. feats: 23 done\n",
      "N. feats: 31 done\n",
      "N. feats: 42 done\n",
      "N. feats: 56 done\n",
      "N. feats: 75 done\n",
      "N. feats: 100 done\n",
      "N. feats: 133 done\n",
      "N. feats: 178 done\n",
      "N. feats: 237 done\n"
     ]
    }
   ],
   "source": [
    "n_feats_list = np.unique(np.logspace(np.log10(1), np.log10(238), num=20, dtype=int))\n",
    "accs = []\n",
    "precs = []\n",
    "recs = []\n",
    "f1s = []\n",
    "\n",
    "for n_feats in n_feats_list:\n",
    "    acc, prec, rec, f1_ = evaluate(RandomForest, X_dev, y_dev, X_val, y_val, args=[5, n_feats], verbose=False)\n",
    "    accs.append(acc)\n",
    "    precs.append(prec)\n",
    "    recs.append(rec)\n",
    "    f1s.append(f1_)\n",
    "    print(f'N. feats: {n_feats} done')"
   ]
  },
  {
   "cell_type": "code",
   "execution_count": 92,
   "metadata": {},
   "outputs": [
    {
     "data": {
      "image/png": "[encoded data removed]",
      "text/plain": [
       "<Figure size 720x576 with 4 Axes>"
      ]
     },
     "metadata": {
      "needs_background": "light"
     },
     "output_type": "display_data"
    }
   ],
   "source": [
    "fig, ((ax1, ax2), (ax3, ax4)) = plt.subplots(2, 2, figsize=(10, 8))\n",
    "fig.suptitle(\"Random Forest (5 trees, varying n. features)\")\n",
    "\n",
    "ax1.plot(n_feats_list, accs)\n",
    "ax1.set_title(\"Accuracy\")\n",
    "ax1.set_xlabel(\"Number of features\")\n",
    "\n",
    "ax2.plot(n_feats_list, precs)\n",
    "ax2.set_title(\"Precision\")\n",
    "ax2.set_xlabel(\"Number of features\")\n",
    "\n",
    "ax3.plot(n_feats_list, recs)\n",
    "ax3.set_title(\"Recall\")\n",
    "ax3.set_xlabel(\"Number of features\")\n",
    "\n",
    "ax4.plot(n_feats_list, f1s)\n",
    "ax4.set_title(\"F1 score\")\n",
    "ax4.set_xlabel(\"Number of features\")\n",
    "\n",
    "plt.tight_layout()  # Optional: Adjust the spacing between subplots\n",
    "\n",
    "plt.savefig('images/rf_n_feats.png')\n",
    "plt.show()"
   ]
  },
  {
   "attachments": {},
   "cell_type": "markdown",
   "metadata": {},
   "source": [
    "Varying the number of trees while the number of features fixed"
   ]
  },
  {
   "cell_type": "code",
   "execution_count": 93,
   "metadata": {},
   "outputs": [
    {
     "name": "stdout",
     "output_type": "stream",
     "text": [
      "N. trees: 1 done\n",
      "N. trees: 2 done\n",
      "N. trees: 3 done\n",
      "N. trees: 4 done\n",
      "N. trees: 6 done\n",
      "N. trees: 9 done\n",
      "N. trees: 14 done\n",
      "N. trees: 20 done\n",
      "N. trees: 29 done\n"
     ]
    }
   ],
   "source": [
    "n_trees_list = np.unique(np.logspace(np.log10(1), np.log10(30), num=10, dtype=int))\n",
    "accs = []\n",
    "precs = []\n",
    "recs = []\n",
    "f1s = []\n",
    "\n",
    "for n_trees in n_trees_list:\n",
    "    acc, prec, rec, f1_ = evaluate(RandomForest, X_dev, y_dev, X_val, y_val, args=[n_trees, 150], verbose=False)\n",
    "    accs.append(acc)\n",
    "    precs.append(prec)\n",
    "    recs.append(rec)\n",
    "    f1s.append(f1_)\n",
    "    print(f'N. trees: {n_trees} done')"
   ]
  },
  {
   "cell_type": "code",
   "execution_count": 94,
   "metadata": {},
   "outputs": [
    {
     "data": {
      "image/png": "[encoded data removed]",
      "text/plain": [
       "<Figure size 720x576 with 4 Axes>"
      ]
     },
     "metadata": {
      "needs_background": "light"
     },
     "output_type": "display_data"
    }
   ],
   "source": [
    "fig, ((ax1, ax2), (ax3, ax4)) = plt.subplots(2, 2, figsize=(10, 8))\n",
    "fig.suptitle(\"Random Forest (varying n. trees, 150 features)\")\n",
    "\n",
    "ax1.plot(n_trees_list, accs)\n",
    "ax1.set_title(\"Accuracy\")\n",
    "ax1.set_xlabel(\"N. trees\")\n",
    "\n",
    "ax2.plot(n_trees_list, precs)\n",
    "ax2.set_title(\"Precision\")\n",
    "ax2.set_xlabel(\"N. trees\")\n",
    "\n",
    "ax3.plot(n_trees_list, recs)\n",
    "ax3.set_title(\"Recall\")\n",
    "ax3.set_xlabel(\"N. trees\")\n",
    "\n",
    "ax4.plot(n_trees_list, f1s)\n",
    "ax4.set_title(\"F1 score\")\n",
    "ax4.set_xlabel(\"N. trees\")\n",
    "\n",
    "plt.tight_layout()  # Optional: Adjust the spacing between subplots\n",
    "\n",
    "plt.savefig('images/rf_n_trees.png')\n",
    "plt.show()"
   ]
  },
  {
   "cell_type": "code",
   "execution_count": 95,
   "metadata": {},
   "outputs": [
    {
     "name": "stdout",
     "output_type": "stream",
     "text": [
      "N. trees: 1 done\n",
      "N. trees: 2 done\n",
      "N. trees: 3 done\n",
      "N. trees: 4 done\n",
      "N. trees: 6 done\n",
      "N. trees: 9 done\n",
      "N. trees: 14 done\n",
      "N. trees: 20 done\n",
      "N. trees: 29 done\n"
     ]
    },
    {
     "data": {
      "image/png": "[encoded data removed]",
      "text/plain": [
       "<Figure size 720x576 with 4 Axes>"
      ]
     },
     "metadata": {
      "needs_background": "light"
     },
     "output_type": "display_data"
    }
   ],
   "source": [
    "n_trees_list = np.unique(np.logspace(np.log10(1), np.log10(30), num=10, dtype=int))\n",
    "accs = []\n",
    "precs = []\n",
    "recs = []\n",
    "f1s = []\n",
    "\n",
    "for n_trees in n_trees_list:\n",
    "    acc, prec, rec, f1_ = evaluate(RandomForest, X_dev, y_dev, X_val, y_val, args=[n_trees, 200], verbose=False)\n",
    "    accs.append(acc)\n",
    "    precs.append(prec)\n",
    "    recs.append(rec)\n",
    "    f1s.append(f1_)\n",
    "    print(f'N. trees: {n_trees} done')\n",
    "\n",
    "fig, ((ax1, ax2), (ax3, ax4)) = plt.subplots(2, 2, figsize=(10, 8))\n",
    "fig.suptitle(\"Random Forest (varying n. trees, 200 features)\")\n",
    "\n",
    "ax1.plot(n_trees_list, accs)\n",
    "ax1.set_title(\"Accuracy\")\n",
    "ax1.set_xlabel(\"N. trees\")\n",
    "\n",
    "ax2.plot(n_trees_list, precs)\n",
    "ax2.set_title(\"Precision\")\n",
    "ax2.set_xlabel(\"N. trees\")\n",
    "\n",
    "ax3.plot(n_trees_list, recs)\n",
    "ax3.set_title(\"Recall\")\n",
    "ax3.set_xlabel(\"N. trees\")\n",
    "\n",
    "ax4.plot(n_trees_list, f1s)\n",
    "ax4.set_title(\"F1 score\")\n",
    "ax4.set_xlabel(\"N. trees\")\n",
    "\n",
    "plt.tight_layout()  # Optional: Adjust the spacing between subplots\n",
    "\n",
    "plt.savefig('images/rf_n_trees2.png')\n",
    "plt.show()"
   ]
  },
  {
   "attachments": {},
   "cell_type": "markdown",
   "metadata": {},
   "source": [
    "## For Bagging"
   ]
  },
  {
   "cell_type": "code",
   "execution_count": 97,
   "metadata": {},
   "outputs": [
    {
     "name": "stdout",
     "output_type": "stream",
     "text": [
      "N. trees: 1 done\n",
      "N. trees: 2 done\n",
      "N. trees: 3 done\n",
      "N. trees: 5 done\n",
      "N. trees: 7 done\n",
      "N. trees: 10 done\n",
      "N. trees: 14 done\n",
      "N. trees: 20 done\n"
     ]
    }
   ],
   "source": [
    "n_trees_list = np.unique(np.logspace(np.log10(1), np.log10(20), num=10, dtype=int))\n",
    "accs = []\n",
    "precs = []\n",
    "recs = []\n",
    "f1s = []\n",
    "\n",
    "for n_trees in n_trees_list:\n",
    "    acc, prec, rec, f1_ = evaluate(Bagging, X_dev, y_dev, X_val, y_val, args=[n_trees], verbose=False)\n",
    "    accs.append(acc)\n",
    "    precs.append(prec)\n",
    "    recs.append(rec)\n",
    "    f1s.append(f1_)\n",
    "    print(f'N. trees: {n_trees} done')"
   ]
  },
  {
   "cell_type": "code",
   "execution_count": 98,
   "metadata": {},
   "outputs": [
    {
     "data": {
      "image/png": "[encoded data removed]",
      "text/plain": [
       "<Figure size 720x576 with 4 Axes>"
      ]
     },
     "metadata": {
      "needs_background": "light"
     },
     "output_type": "display_data"
    }
   ],
   "source": [
    "fig, ((ax1, ax2), (ax3, ax4)) = plt.subplots(2, 2, figsize=(10, 8))\n",
    "fig.suptitle(\"Bagging (varying n. trees)\")\n",
    "\n",
    "ax1.plot(n_trees_list, accs)\n",
    "ax1.set_title(\"Accuracy\")\n",
    "ax1.set_xlabel(\"N. trees\")\n",
    "\n",
    "ax2.plot(n_trees_list, precs)\n",
    "ax2.set_title(\"Precision\")\n",
    "ax2.set_xlabel(\"N. trees\")\n",
    "\n",
    "ax3.plot(n_trees_list, recs)\n",
    "ax3.set_title(\"Recall\")\n",
    "ax3.set_xlabel(\"N. trees\")\n",
    "\n",
    "ax4.plot(n_trees_list, f1s)\n",
    "ax4.set_title(\"F1 score\")\n",
    "ax4.set_xlabel(\"N. trees\")\n",
    "\n",
    "plt.tight_layout()  # Optional: Adjust the spacing between subplots\n",
    "\n",
    "plt.savefig('images/bag_n_trees.png')\n",
    "plt.show()"
   ]
  },
  {
   "attachments": {},
   "cell_type": "markdown",
   "metadata": {},
   "source": [
    "# Insights"
   ]
  },
  {
   "attachments": {},
   "cell_type": "markdown",
   "metadata": {},
   "source": [
    "When trying out Decision Tree with maximum depth equal to one, we observed accuracy reached unusually high value (87%) and the same for F1 score"
   ]
  },
  {
   "cell_type": "code",
   "execution_count": 77,
   "metadata": {},
   "outputs": [
    {
     "name": "stdout",
     "output_type": "stream",
     "text": [
      "  Accuracy  : 0.87069\n",
      "  Precision : 0.88637\n",
      "  Recall    : 0.84502\n",
      "  F1        : 0.85774\n",
      " Ft. 232 < 4.00 [ n= 2325.0 ]\n",
      "   => 0.09 [ n= 748.0 ]\n",
      "   => 0.85 [ n= 1577.0 ]\n"
     ]
    }
   ],
   "source": [
    "_ = evaluate(DecisionTree, X_dev, y_dev, X_val, y_val, config=[4, .01, .001, 1])"
   ]
  },
  {
   "attachments": {},
   "cell_type": "markdown",
   "metadata": {},
   "source": [
    "The above means the first node with split at feature 232 on value 4.0 and before splitting it has a total of 2325 samples. The left child of the node contains 748 samples, 9% of which is positive. Similarly, the right child contains 1577 samples, and 85% of them are positive\n",
    "\n",
    "The tree achieved remarkable result with just one split on feature 232, which is **Curricular units 2nd sem (approved)**. To test if there is an error somewhere, we test it on a new dataset with only one feature value"
   ]
  },
  {
   "cell_type": "code",
   "execution_count": 86,
   "metadata": {},
   "outputs": [
    {
     "name": "stdout",
     "output_type": "stream",
     "text": [
      "  Accuracy  : 0.87586\n",
      "  Precision : 0.88347\n",
      "  Recall    : 0.85556\n",
      "  F1        : 0.86536\n",
      " Ft. 0 < 4.00 [ n= 2325.0 ]\n",
      "   => 0.09 [ n= 735.0 ]\n",
      "   => 0.85 [ n= 1590.0 ]\n"
     ]
    }
   ],
   "source": [
    "n, d = X.shape\n",
    "X_new = np.zeros((n,1))\n",
    "X_new = X_train[:, 232].reshape(-1,1) # get the 232th column\n",
    "\n",
    "X_d, y_d, X_v, y_v = stratified_split(X_new, y_train)\n",
    "_ = evaluate(DecisionTree, X_d, y_d, X_v, y_v, config=[4, .01, .001, 1])"
   ]
  },
  {
   "attachments": {},
   "cell_type": "markdown",
   "metadata": {},
   "source": [
    "So feature 232 is the feature that likely indicates whether a student will continue study or dropout in the future. If you continue to do this, you will find the next four important features are:\n",
    "\n",
    "- Curricular units 1st sem (enrolled) - 224\n",
    "- Admission grade - 214\n",
    "- Tuition fees up to date - 218\n",
    "- Unemployment rate - 235"
   ]
  },
  {
   "cell_type": "code",
   "execution_count": 75,
   "metadata": {},
   "outputs": [
    {
     "name": "stdout",
     "output_type": "stream",
     "text": [
      "  Accuracy  : 0.88621\n",
      "  Precision : 0.89647\n",
      "  Recall    : 0.86563\n",
      "  F1        : 0.87632\n",
      " Ft. 232 < 4.00 [ n= 2325.0 ]\n",
      "   Ft. 224 < 1.00 [ n= 748.0 ]\n",
      "     Ft. 214 < 0.94 [ n= 93.0 ]\n",
      "       Ft. 218 < 1.00 [ n= 56.0 ]\n",
      "         => 0.00 [ n= 9.0 ]\n",
      "         Ft. 235 < 0.85 [ n= 47.0 ]\n",
      "           => 0.59 [ n= 32.0 ]\n",
      "           => 0.13 [ n= 15.0 ]\n",
      "       Ft. 60 < 1.97 [ n= 37.0 ]\n",
      "         Ft. 235 < 1.45 [ n= 23.0 ]\n",
      "           => 0.95 [ n= 20.0 ]\n",
      "           => 0.33 [ n= 3.0 ]\n",
      "         Ft. 82 < 1.00 [ n= 14.0 ]\n",
      "           => 0.78 [ n= 9.0 ]\n",
      "           => 0.00 [ n= 5.0 ]\n",
      "     Ft. 232 < 2.00 [ n= 655.0 ]\n",
      "       => 0.00 [ n= 487.0 ]\n",
      "       Ft. 226 < 5.00 [ n= 168.0 ]\n",
      "         Ft. 219 < 1.00 [ n= 126.0 ]\n",
      "           => 0.15 [ n= 54.0 ]\n",
      "           => 0.00 [ n= 72.0 ]\n",
      "         Ft. 218 < 1.00 [ n= 42.0 ]\n",
      "           => 0.00 [ n= 12.0 ]\n",
      "           => 0.47 [ n= 30.0 ]\n",
      "   Ft. 218 < 1.00 [ n= 1577.0 ]\n",
      "     Ft. 232 < 6.00 [ n= 79.0 ]\n",
      "       Ft. 37 < 1.00 [ n= 49.0 ]\n",
      "         => 0.00 [ n= 42.0 ]\n",
      "         Ft. 61 < 1.00 [ n= 7.0 ]\n",
      "           => 1.00 [ n= 2.0 ]\n",
      "           => 0.20 [ n= 5.0 ]\n",
      "       Ft. 224 < 7.00 [ n= 30.0 ]\n",
      "         Ft. 26 < 1.00 [ n= 15.0 ]\n",
      "           => 0.85 [ n= 13.0 ]\n",
      "           => 0.00 [ n= 2.0 ]\n",
      "         Ft. 122 < 1.00 [ n= 15.0 ]\n",
      "           => 0.00 [ n= 12.0 ]\n",
      "           => 0.67 [ n= 3.0 ]\n",
      "     Ft. 232 < 6.00 [ n= 1498.0 ]\n",
      "       Ft. 230 < 7.00 [ n= 473.0 ]\n",
      "         Ft. 40 < 1.00 [ n= 445.0 ]\n",
      "           => 0.85 [ n= 424.0 ]\n",
      "           => 0.33 [ n= 21.0 ]\n",
      "         Ft. 226 < 6.00 [ n= 28.0 ]\n",
      "           => 0.00 [ n= 15.0 ]\n",
      "           => 0.46 [ n= 13.0 ]\n",
      "       Ft. 231 < 9.00 [ n= 1025.0 ]\n",
      "         Ft. 228 < 1.00 [ n= 668.0 ]\n",
      "           => 0.97 [ n= 656.0 ]\n",
      "           => 0.58 [ n= 12.0 ]\n",
      "         Ft. 227 < 11.68 [ n= 357.0 ]\n",
      "           => 0.69 [ n= 51.0 ]\n",
      "           => 0.90 [ n= 306.0 ]\n"
     ]
    }
   ],
   "source": [
    "_ = evaluate(DecisionTree, X_dev, y_dev, X_val, y_val, config=[4, .01, .001, 5])"
   ]
  },
  {
   "attachments": {},
   "cell_type": "markdown",
   "metadata": {},
   "source": [
    "# Evaluation"
   ]
  },
  {
   "cell_type": "code",
   "execution_count": null,
   "metadata": {},
   "outputs": [],
   "source": [
    "evaluate(DecisionTree, X_train, y_train, X_test, y_test, config=[4, .01, .001, 5])"
   ]
  },
  {
   "cell_type": "code",
   "execution_count": 101,
   "metadata": {},
   "outputs": [
    {
     "name": "stdout",
     "output_type": "stream",
     "text": [
      "  Accuracy  : 0.89241\n",
      "  Precision : 0.91124\n",
      "  Recall    : 0.87835\n",
      "  F1        : 0.89276\n"
     ]
    },
    {
     "data": {
      "text/plain": [
       "(0.8924137931034483,\n",
       " 0.9112440604495954,\n",
       " 0.8783454696221694,\n",
       " 0.8927612607903873)"
      ]
     },
     "execution_count": 101,
     "metadata": {},
     "output_type": "execute_result"
    }
   ],
   "source": [
    "evaluate(RandomForest, X_train, y_train, X_test, y_test, args=[10, 150])"
   ]
  },
  {
   "cell_type": "code",
   "execution_count": 102,
   "metadata": {},
   "outputs": [
    {
     "name": "stdout",
     "output_type": "stream",
     "text": [
      "  Accuracy  : 0.89379\n",
      "  Precision : 0.89311\n",
      "  Recall    : 0.88261\n",
      "  F1        : 0.88714\n"
     ]
    },
    {
     "data": {
      "text/plain": [
       "(0.8937931034482759,\n",
       " 0.8931091058011067,\n",
       " 0.8826131391308734,\n",
       " 0.8871421957569221)"
      ]
     },
     "execution_count": 102,
     "metadata": {},
     "output_type": "execute_result"
    }
   ],
   "source": [
    "evaluate(RandomForest, X_train, y_train, X_test, y_test, args=[5, 200])"
   ]
  },
  {
   "attachments": {},
   "cell_type": "markdown",
   "metadata": {},
   "source": [
    "# Inference"
   ]
  },
  {
   "cell_type": "code",
   "execution_count": 54,
   "metadata": {},
   "outputs": [],
   "source": [
    "rf_clf = RandomForest(num_trees=5, num_features=200)\n",
    "rf_clf.fit(X_train, y_train)"
   ]
  },
  {
   "cell_type": "code",
   "execution_count": 55,
   "metadata": {},
   "outputs": [
    {
     "name": "stdout",
     "output_type": "stream",
     "text": [
      "(Graduated: 1.0, Dropout: -1.0)\n",
      "- Prediction : -1.0\n",
      "- Actual     : -1.0\n"
     ]
    }
   ],
   "source": [
    "id = 123\n",
    "\n",
    "print('(Graduated: 1.0, Dropout: -1.0)')\n",
    "print('- Prediction :', rf_clf.predict(X_test[id,:].reshape(1,-1))[0][0])\n",
    "print('- Actual     :', y_test[id][0])"
   ]
  },
  {
   "attachments": {},
   "cell_type": "markdown",
   "metadata": {},
   "source": [
    "# Save model"
   ]
  },
  {
   "attachments": {},
   "cell_type": "markdown",
   "metadata": {},
   "source": [
    "**Notes:** Class DTNode, DecisionTree, Bagging, RandomForest must be defined in the same space where 'load_model' is called"
   ]
  },
  {
   "cell_type": "code",
   "execution_count": 17,
   "metadata": {},
   "outputs": [],
   "source": [
    "import pickle\n",
    "\n",
    "def save_model(obj, file_path):\n",
    "    \"\"\"\n",
    "    Save an object to a file using pickle.\n",
    "\n",
    "    Parameters:\n",
    "    obj (object): The object to be saved.\n",
    "    file_path (str): The path to the file where the object will be saved.\n",
    "    \"\"\"\n",
    "    try:\n",
    "        with open(file_path, 'wb') as file:\n",
    "            pickle.dump(obj, file)\n",
    "        print(\"Object saved successfully.\")\n",
    "    except Exception as e:\n",
    "        print(f\"Error occurred while saving the object: {str(e)}\")\n",
    "\n",
    "def load_model(file_path):\n",
    "    \"\"\"\n",
    "    Load an object from a file using pickle.\n",
    "\n",
    "    Parameters:\n",
    "    file_path (str): The path to the file containing the object.\n",
    "\n",
    "    Returns:\n",
    "    object: The loaded object.\n",
    "    \"\"\"\n",
    "    try:\n",
    "        with open(file_path, 'rb') as file:\n",
    "            obj = pickle.load(file)\n",
    "        print(\"Object loaded successfully.\")\n",
    "        return obj\n",
    "    except Exception as e:\n",
    "        print(f\"Error occurred while loading the object: {str(e)}\")\n",
    "        return None\n"
   ]
  },
  {
   "cell_type": "code",
   "execution_count": 58,
   "metadata": {},
   "outputs": [
    {
     "name": "stdout",
     "output_type": "stream",
     "text": [
      "Object saved successfully.\n"
     ]
    }
   ],
   "source": [
    "save_model(rf_clf, 'randomforest.pkl')"
   ]
  },
  {
   "cell_type": "code",
   "execution_count": 18,
   "metadata": {},
   "outputs": [
    {
     "name": "stdout",
     "output_type": "stream",
     "text": [
      "Object loaded successfully.\n",
      "(Graduated: 1.0, Dropout: -1.0)\n",
      "- Prediction : -1.0\n",
      "- Actual     : -1.0\n"
     ]
    }
   ],
   "source": [
    "clf = load_model('randomforest.pkl')\n",
    "\n",
    "id = 123\n",
    "print('(Graduated: 1.0, Dropout: -1.0)')\n",
    "print('- Prediction :', clf.predict(X_test[id,:].reshape(1,-1))[0][0])\n",
    "print('- Actual     :', y_test[id][0])"
   ]
  }
 ],
 "metadata": {
  "kernelspec": {
   "display_name": "base",
   "language": "python",
   "name": "python3"
  },
  "language_info": {
   "codemirror_mode": {
    "name": "ipython",
    "version": 3
   },
   "file_extension": ".py",
   "mimetype": "text/x-python",
   "name": "python",
   "nbconvert_exporter": "python",
   "pygments_lexer": "ipython3",
   "version": "3.9.7"
  },
  "orig_nbformat": 4
 },
 "nbformat": 4,
 "nbformat_minor": 2
}
